{
 "cells": [
  {
   "cell_type": "markdown",
   "metadata": {},
   "source": [
    "## import all needed packages here."
   ]
  },
  {
   "cell_type": "code",
   "execution_count": 1,
   "metadata": {},
   "outputs": [
    {
     "name": "stdout",
     "output_type": "stream",
     "text": [
      "Requirement already satisfied: apyori in /Users/willcohen/opt/anaconda3/lib/python3.9/site-packages (1.1.2)\n"
     ]
    }
   ],
   "source": [
    "!pip install apyori\n",
    "import pandas as pd\n",
    "import scipy as sp\n",
    "from scipy import stats\n",
    "import matplotlib.pyplot as mpl\n",
    "import apyori\n",
    "from apyori import apriori\n",
    "import numpy as np\n",
    "\n",
    "from sklearn.neighbors import KNeighborsClassifier\n",
    "from sklearn.model_selection import cross_validate\n",
    "from sklearn.model_selection import train_test_split\n",
    "from sklearn.linear_model import LogisticRegression\n",
    "from sklearn.linear_model import LinearRegression\n"
   ]
  },
  {
   "cell_type": "markdown",
   "metadata": {},
   "source": [
    "## Load data to pandas DataFrames."
   ]
  },
  {
   "cell_type": "code",
   "execution_count": 3,
   "metadata": {},
   "outputs": [],
   "source": [
    "df = pd.read_csv('Airbnb-CLEANED.csv', low_memory=False)"
   ]
  },
  {
   "cell_type": "code",
   "execution_count": 4,
   "metadata": {},
   "outputs": [
    {
     "name": "stdout",
     "output_type": "stream",
     "text": [
      "['Pearson: price number of reviews', (0.005331210627376197, 0.09323115775960546)]\n",
      "['Spearman: price number of reviews', SpearmanrResult(correlation=0.0045917275690672225, pvalue=0.14824547375447858)]\n",
      "['Pearson: price minimum nights', (-0.003204186669203889, 0.3130364194311768)]\n",
      "['Spearman: price minimum nights', SpearmanrResult(correlation=-0.0034382306222281566, pvalue=0.279002549608778)]\n"
     ]
    },
    {
     "ename": "ValueError",
     "evalue": "array must not contain infs or NaNs",
     "output_type": "error",
     "traceback": [
      "\u001b[0;31m---------------------------------------------------------------------------\u001b[0m",
      "\u001b[0;31mValueError\u001b[0m                                Traceback (most recent call last)",
      "Input \u001b[0;32mIn [4]\u001b[0m, in \u001b[0;36m<cell line: 3>\u001b[0;34m()\u001b[0m\n\u001b[1;32m      4\u001b[0m \u001b[38;5;28;01mfor\u001b[39;00m j \u001b[38;5;129;01min\u001b[39;00m \u001b[38;5;28mrange\u001b[39m(i, \u001b[38;5;28mlen\u001b[39m(attr)):\n\u001b[1;32m      5\u001b[0m     \u001b[38;5;28;01mif\u001b[39;00m attr[i] \u001b[38;5;241m!=\u001b[39m attr[j]:\n\u001b[0;32m----> 6\u001b[0m         \u001b[38;5;28mprint\u001b[39m([\u001b[38;5;124m'\u001b[39m\u001b[38;5;124mPearson: \u001b[39m\u001b[38;5;124m'\u001b[39m\u001b[38;5;241m+\u001b[39m attr[i] \u001b[38;5;241m+\u001b[39m \u001b[38;5;124m'\u001b[39m\u001b[38;5;124m \u001b[39m\u001b[38;5;124m'\u001b[39m \u001b[38;5;241m+\u001b[39m attr[j], \u001b[43msp\u001b[49m\u001b[38;5;241;43m.\u001b[39;49m\u001b[43mstats\u001b[49m\u001b[38;5;241;43m.\u001b[39;49m\u001b[43mmstats\u001b[49m\u001b[38;5;241;43m.\u001b[39;49m\u001b[43mpearsonr\u001b[49m\u001b[43m(\u001b[49m\u001b[43mdf\u001b[49m\u001b[43m[\u001b[49m\u001b[43mattr\u001b[49m\u001b[43m[\u001b[49m\u001b[43mi\u001b[49m\u001b[43m]\u001b[49m\u001b[43m]\u001b[49m\u001b[43m,\u001b[49m\u001b[43m \u001b[49m\u001b[43mdf\u001b[49m\u001b[43m[\u001b[49m\u001b[43mattr\u001b[49m\u001b[43m[\u001b[49m\u001b[43mj\u001b[49m\u001b[43m]\u001b[49m\u001b[43m]\u001b[49m\u001b[43m)\u001b[49m])\n\u001b[1;32m      7\u001b[0m         \u001b[38;5;28mprint\u001b[39m([\u001b[38;5;124m'\u001b[39m\u001b[38;5;124mSpearman: \u001b[39m\u001b[38;5;124m'\u001b[39m\u001b[38;5;241m+\u001b[39m attr[i] \u001b[38;5;241m+\u001b[39m \u001b[38;5;124m'\u001b[39m\u001b[38;5;124m \u001b[39m\u001b[38;5;124m'\u001b[39m \u001b[38;5;241m+\u001b[39m attr[j], sp\u001b[38;5;241m.\u001b[39mstats\u001b[38;5;241m.\u001b[39mmstats\u001b[38;5;241m.\u001b[39mspearmanr(df[attr[i]], df[attr[j]])])\n",
      "File \u001b[0;32m~/opt/anaconda3/lib/python3.9/site-packages/scipy/stats/mstats_basic.py:402\u001b[0m, in \u001b[0;36mpearsonr\u001b[0;34m(x, y)\u001b[0m\n\u001b[1;32m    399\u001b[0m \u001b[38;5;28;01mif\u001b[39;00m df \u001b[38;5;241m<\u001b[39m \u001b[38;5;241m0\u001b[39m:\n\u001b[1;32m    400\u001b[0m     \u001b[38;5;28;01mreturn\u001b[39;00m (masked, masked)\n\u001b[0;32m--> 402\u001b[0m \u001b[38;5;28;01mreturn\u001b[39;00m \u001b[43mscipy\u001b[49m\u001b[38;5;241;43m.\u001b[39;49m\u001b[43mstats\u001b[49m\u001b[38;5;241;43m.\u001b[39;49m\u001b[43mstats\u001b[49m\u001b[38;5;241;43m.\u001b[39;49m\u001b[43mpearsonr\u001b[49m\u001b[43m(\u001b[49m\u001b[43mma\u001b[49m\u001b[38;5;241;43m.\u001b[39;49m\u001b[43mmasked_array\u001b[49m\u001b[43m(\u001b[49m\u001b[43mx\u001b[49m\u001b[43m,\u001b[49m\u001b[43m \u001b[49m\u001b[43mmask\u001b[49m\u001b[38;5;241;43m=\u001b[39;49m\u001b[43mm\u001b[49m\u001b[43m)\u001b[49m\u001b[38;5;241;43m.\u001b[39;49m\u001b[43mcompressed\u001b[49m\u001b[43m(\u001b[49m\u001b[43m)\u001b[49m\u001b[43m,\u001b[49m\n\u001b[1;32m    403\u001b[0m \u001b[43m                                  \u001b[49m\u001b[43mma\u001b[49m\u001b[38;5;241;43m.\u001b[39;49m\u001b[43mmasked_array\u001b[49m\u001b[43m(\u001b[49m\u001b[43my\u001b[49m\u001b[43m,\u001b[49m\u001b[43m \u001b[49m\u001b[43mmask\u001b[49m\u001b[38;5;241;43m=\u001b[39;49m\u001b[43mm\u001b[49m\u001b[43m)\u001b[49m\u001b[38;5;241;43m.\u001b[39;49m\u001b[43mcompressed\u001b[49m\u001b[43m(\u001b[49m\u001b[43m)\u001b[49m\u001b[43m)\u001b[49m\n",
      "File \u001b[0;32m~/opt/anaconda3/lib/python3.9/site-packages/scipy/stats/stats.py:4046\u001b[0m, in \u001b[0;36mpearsonr\u001b[0;34m(x, y)\u001b[0m\n\u001b[1;32m   4042\u001b[0m \u001b[38;5;66;03m# Unlike np.linalg.norm or the expression sqrt((xm*xm).sum()),\u001b[39;00m\n\u001b[1;32m   4043\u001b[0m \u001b[38;5;66;03m# scipy.linalg.norm(xm) does not overflow if xm is, for example,\u001b[39;00m\n\u001b[1;32m   4044\u001b[0m \u001b[38;5;66;03m# [-5e210, 5e210, 3e200, -3e200]\u001b[39;00m\n\u001b[1;32m   4045\u001b[0m normxm \u001b[38;5;241m=\u001b[39m linalg\u001b[38;5;241m.\u001b[39mnorm(xm)\n\u001b[0;32m-> 4046\u001b[0m normym \u001b[38;5;241m=\u001b[39m \u001b[43mlinalg\u001b[49m\u001b[38;5;241;43m.\u001b[39;49m\u001b[43mnorm\u001b[49m\u001b[43m(\u001b[49m\u001b[43mym\u001b[49m\u001b[43m)\u001b[49m\n\u001b[1;32m   4048\u001b[0m threshold \u001b[38;5;241m=\u001b[39m \u001b[38;5;241m1e-13\u001b[39m\n\u001b[1;32m   4049\u001b[0m \u001b[38;5;28;01mif\u001b[39;00m normxm \u001b[38;5;241m<\u001b[39m threshold\u001b[38;5;241m*\u001b[39m\u001b[38;5;28mabs\u001b[39m(xmean) \u001b[38;5;129;01mor\u001b[39;00m normym \u001b[38;5;241m<\u001b[39m threshold\u001b[38;5;241m*\u001b[39m\u001b[38;5;28mabs\u001b[39m(ymean):\n\u001b[1;32m   4050\u001b[0m     \u001b[38;5;66;03m# If all the values in x (likewise y) are very close to the mean,\u001b[39;00m\n\u001b[1;32m   4051\u001b[0m     \u001b[38;5;66;03m# the loss of precision that occurs in the subtraction xm = x - xmean\u001b[39;00m\n\u001b[1;32m   4052\u001b[0m     \u001b[38;5;66;03m# might result in large errors in r.\u001b[39;00m\n",
      "File \u001b[0;32m~/opt/anaconda3/lib/python3.9/site-packages/scipy/linalg/misc.py:145\u001b[0m, in \u001b[0;36mnorm\u001b[0;34m(a, ord, axis, keepdims, check_finite)\u001b[0m\n\u001b[1;32m    143\u001b[0m \u001b[38;5;66;03m# Differs from numpy only in non-finite handling and the use of blas.\u001b[39;00m\n\u001b[1;32m    144\u001b[0m \u001b[38;5;28;01mif\u001b[39;00m check_finite:\n\u001b[0;32m--> 145\u001b[0m     a \u001b[38;5;241m=\u001b[39m \u001b[43mnp\u001b[49m\u001b[38;5;241;43m.\u001b[39;49m\u001b[43masarray_chkfinite\u001b[49m\u001b[43m(\u001b[49m\u001b[43ma\u001b[49m\u001b[43m)\u001b[49m\n\u001b[1;32m    146\u001b[0m \u001b[38;5;28;01melse\u001b[39;00m:\n\u001b[1;32m    147\u001b[0m     a \u001b[38;5;241m=\u001b[39m np\u001b[38;5;241m.\u001b[39masarray(a)\n",
      "File \u001b[0;32m~/opt/anaconda3/lib/python3.9/site-packages/numpy/lib/function_base.py:488\u001b[0m, in \u001b[0;36masarray_chkfinite\u001b[0;34m(a, dtype, order)\u001b[0m\n\u001b[1;32m    486\u001b[0m a \u001b[38;5;241m=\u001b[39m asarray(a, dtype\u001b[38;5;241m=\u001b[39mdtype, order\u001b[38;5;241m=\u001b[39morder)\n\u001b[1;32m    487\u001b[0m \u001b[38;5;28;01mif\u001b[39;00m a\u001b[38;5;241m.\u001b[39mdtype\u001b[38;5;241m.\u001b[39mchar \u001b[38;5;129;01min\u001b[39;00m typecodes[\u001b[38;5;124m'\u001b[39m\u001b[38;5;124mAllFloat\u001b[39m\u001b[38;5;124m'\u001b[39m] \u001b[38;5;129;01mand\u001b[39;00m \u001b[38;5;129;01mnot\u001b[39;00m np\u001b[38;5;241m.\u001b[39misfinite(a)\u001b[38;5;241m.\u001b[39mall():\n\u001b[0;32m--> 488\u001b[0m     \u001b[38;5;28;01mraise\u001b[39;00m \u001b[38;5;167;01mValueError\u001b[39;00m(\n\u001b[1;32m    489\u001b[0m         \u001b[38;5;124m\"\u001b[39m\u001b[38;5;124marray must not contain infs or NaNs\u001b[39m\u001b[38;5;124m\"\u001b[39m)\n\u001b[1;32m    490\u001b[0m \u001b[38;5;28;01mreturn\u001b[39;00m a\n",
      "\u001b[0;31mValueError\u001b[0m: array must not contain infs or NaNs"
     ]
    }
   ],
   "source": [
    "attr = ['price', 'number of reviews', 'minimum nights', 'reviews per month', 'review rate number','Construction year']\n",
    "correlations = []\n",
    "for i in range(len(attr)):\n",
    "    for j in range(i, len(attr)):\n",
    "        if attr[i] != attr[j]:\n",
    "            print(['Pearson: '+ attr[i] + ' ' + attr[j], sp.stats.mstats.pearsonr(df[attr[i]], df[attr[j]])])\n",
    "            print(['Spearman: '+ attr[i] + ' ' + attr[j], sp.stats.mstats.spearmanr(df[attr[i]], df[attr[j]])])\n"
   ]
  },
  {
   "cell_type": "code",
   "execution_count": 42,
   "metadata": {},
   "outputs": [
    {
     "name": "stdout",
     "output_type": "stream",
     "text": [
      "['Pearson: price number of reviews', (0.00916490122062559, 0.06521036548013527)]\n",
      "['Spearman: price number of reviews', SpearmanrResult(correlation=0.005269525434710031, pvalue=0.28909055641573056)]\n",
      "['Pearson: price minimum nights', (-0.007301409419106713, 0.14185966227958224)]\n",
      "['Spearman: price minimum nights', SpearmanrResult(correlation=-0.0044230778151918716, pvalue=0.3735575313854349)]\n",
      "['Pearson: price reviews per month', (0.009050632847518895, 0.06863368609492378)]\n",
      "['Spearman: price reviews per month', SpearmanrResult(correlation=0.007705006146514595, pvalue=0.12111774304954787)]\n",
      "['Pearson: price review rate number', (0.0028214434154960662, 0.570297874192732)]\n",
      "['Spearman: price review rate number', SpearmanrResult(correlation=0.0024316161962925553, pvalue=0.6247086919127606)]\n",
      "['Pearson: number of reviews minimum nights', (-0.07741895413069524, 7.465602176611495e-55)]\n",
      "['Spearman: number of reviews minimum nights', SpearmanrResult(correlation=-0.12826500690086168, pvalue=4.98580967836234e-148)]\n",
      "['Pearson: number of reviews reviews per month', (0.6256554113972872, 0.0)]\n",
      "['Spearman: number of reviews reviews per month', SpearmanrResult(correlation=0.845823282280958, pvalue=0.0)]\n",
      "['Pearson: number of reviews review rate number', (-0.012816968200465616, 0.009920297772691372)]\n",
      "['Spearman: number of reviews review rate number', SpearmanrResult(correlation=-0.009016643186100815, pvalue=0.06968001232867956)]\n",
      "['Pearson: minimum nights reviews per month', (-0.1921284232531726, 0.0)]\n",
      "['Spearman: minimum nights reviews per month', SpearmanrResult(correlation=-0.22858947971650437, pvalue=0.0)]\n",
      "['Pearson: minimum nights review rate number', (0.015804395459669142, 0.001474317678280697)]\n",
      "['Spearman: minimum nights review rate number', SpearmanrResult(correlation=-0.0017104244176964995, pvalue=0.7307713517945496)]\n",
      "['Pearson: reviews per month review rate number', (0.036592816285339766, 1.7830881980909178e-13)]\n",
      "['Spearman: reviews per month review rate number', SpearmanrResult(correlation=0.03993208978041938, pvalue=9.232451034897921e-16)]\n"
     ]
    }
   ],
   "source": [
    "brooklyn = df[(df['neighbourhood group'] == 'Brooklyn')]\n",
    "bronx = df[(df['neighbourhood group'] == 'Bronx')]\n",
    "queens = df[(df['neighbourhood group'] == 'Queens')]\n",
    "manhattan = df[(df['neighbourhood group'] == 'Manhattan')]\n",
    "staten_island = df[(df['neighbourhood group'] == 'Staten Island')]\n",
    "\n",
    "for i in range(len(attr)):\n",
    "    for j in range(i, len(attr)):\n",
    "        if attr[i] != attr[j]:\n",
    "            print(['Pearson: '+ attr[i] + ' ' + attr[j], sp.stats.mstats.pearsonr(brooklyn[attr[i]], brooklyn[attr[j]])])\n",
    "            print(['Spearman: '+ attr[i] + ' ' + attr[j], sp.stats.mstats.spearmanr(brooklyn[attr[i]], brooklyn[attr[j]])])"
   ]
  }
 ],
 "metadata": {
  "kernelspec": {
   "display_name": "Python 3 (ipykernel)",
   "language": "python",
   "name": "python3"
  },
  "language_info": {
   "codemirror_mode": {
    "name": "ipython",
    "version": 3
   },
   "file_extension": ".py",
   "mimetype": "text/x-python",
   "name": "python",
   "nbconvert_exporter": "python",
   "pygments_lexer": "ipython3",
   "version": "3.9.12"
  }
 },
 "nbformat": 4,
 "nbformat_minor": 4
}
