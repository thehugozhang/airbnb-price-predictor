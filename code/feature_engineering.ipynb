{
 "cells": [
  {
   "cell_type": "code",
   "execution_count": 1,
   "id": "932a613b-2192-4325-9cc6-a9ffd2ad1eee",
   "metadata": {},
   "outputs": [],
   "source": [
    "import pandas as pd\n",
    "import scipy as sp\n",
    "from scipy import stats\n",
    "import matplotlib.pyplot as mpl\n",
    "from apyori import apriori\n",
    "import numpy as np\n",
    "\n",
    "from sklearn.neighbors import KNeighborsClassifier\n",
    "from sklearn.model_selection import cross_validate\n",
    "from sklearn.model_selection import train_test_split\n",
    "from sklearn.linear_model import LogisticRegression\n",
    "from sklearn.linear_model import LinearRegression\n",
    "\n",
    "from sklearn import preprocessing"
   ]
  },
  {
   "cell_type": "code",
   "execution_count": 2,
   "id": "3f9f5285-25c3-4127-83b0-1644ce6a8e14",
   "metadata": {},
   "outputs": [],
   "source": [
    "df = pd.read_csv('Airbnb-CLEANED.csv', low_memory=False)"
   ]
  },
  {
   "cell_type": "code",
   "execution_count": 3,
   "id": "da5bb765-8d63-4463-83ed-5420ea343a49",
   "metadata": {},
   "outputs": [],
   "source": [
    "#\n",
    "#\n",
    "#\n",
    "# LOGISTIC REGRESSION, PRICE AND SUPERHOST\n",
    "#\n",
    "#\n",
    "#"
   ]
  },
  {
   "cell_type": "code",
   "execution_count": 4,
   "id": "640926a3-390f-49c4-bcb6-e71419b09ee4",
   "metadata": {},
   "outputs": [
    {
     "name": "stdout",
     "output_type": "stream",
     "text": [
      "0.05649643429931712\n"
     ]
    }
   ],
   "source": [
    "# create super host column in data frame\n",
    "\n",
    "calculated_host_listings_count = df['calculated host listings count']\n",
    "\n",
    "super_host_binarizer = preprocessing.Binarizer(threshold=20.0)\n",
    "calculated_host_listings_count = calculated_host_listings_count.values.reshape(-1, 1)\n",
    "super_hosts = super_host_binarizer.transform(calculated_host_listings_count)\n",
    "\n",
    "\n",
    "super_hosts_count = 0\n",
    "total_count = 0\n",
    "\n",
    "for x in super_hosts:\n",
    "    total_count = total_count + 1\n",
    "    if (x == 1):\n",
    "        super_hosts_count = super_hosts_count + 1\n",
    "\n",
    "print(super_hosts_count/total_count)\n",
    "\n",
    "df['superhost'] = super_hosts"
   ]
  },
  {
   "cell_type": "code",
   "execution_count": 5,
   "id": "43a44556-dca2-4715-a635-7ea66625cb21",
   "metadata": {},
   "outputs": [
    {
     "name": "stdout",
     "output_type": "stream",
     "text": [
      "{'fit_time': array([0.0502162 , 0.05117202, 0.0450623 ]), 'score_time': array([0.00194383, 0.00166798, 0.00194573]), 'test_score': array([0.94318569, 0.94318569, 0.94314786])}\n"
     ]
    }
   ],
   "source": [
    "X_train, X_test, y_train, y_test = train_test_split(df['price'], df['superhost'], test_size=0.2, random_state=0)\n",
    "\n",
    "X_train= X_train.values.reshape(-1, 1)\n",
    "X_test = X_test.values.reshape(-1, 1)\n",
    "\n",
    "lr_model = LogisticRegression(solver='liblinear')\n",
    "cv_results = cross_validate(lr_model, X_train, y_train, cv=3)\n",
    "\n",
    "print(cv_results)"
   ]
  },
  {
   "cell_type": "code",
   "execution_count": 6,
   "id": "55dbb570-2ea7-4372-ab88-aa9aca6e5fe0",
   "metadata": {},
   "outputs": [],
   "source": [
    "#\n",
    "#\n",
    "#\n",
    "# SCALING, PRICE AND CONSTRUCTION YEAR\n",
    "#\n",
    "#\n",
    "#"
   ]
  },
  {
   "cell_type": "code",
   "execution_count": 7,
   "id": "6d29ce0e-ea3c-4985-ac85-adbe28c162e5",
   "metadata": {},
   "outputs": [
    {
     "name": "stdout",
     "output_type": "stream",
     "text": [
      "SpearmanrResult(correlation=-0.003514109213338141, pvalue=0.26853003805269443)\n"
     ]
    }
   ],
   "source": [
    "min_max_scaler = preprocessing.MinMaxScaler()\n",
    "z_scaler = preprocessing.StandardScaler()\n",
    "\n",
    "construction_year_scaler = min_max_scaler.fit(df['Construction year'].values.reshape(-1, 1))\n",
    "construction_year_scaled = construction_year_scaler.transform(df['Construction year'].values.reshape(-1, 1))\n",
    "df[\"construction year scaled\"] = construction_year_scaled\n",
    "\n",
    "prices_scaler = z_scaler.fit(df['price'].values.reshape(-1, 1))\n",
    "prices_scaled = z_scaler.transform(df['price'].values.reshape(-1, 1))\n",
    "\n",
    "print(sp.stats.mstats.spearmanr(construction_year_scaled, prices_scaled))"
   ]
  },
  {
   "cell_type": "code",
   "execution_count": 8,
   "id": "f1e2d028-896f-462f-8a7c-b54f1a646a6a",
   "metadata": {},
   "outputs": [],
   "source": [
    "#\n",
    "#\n",
    "#\n",
    "# INTERACTION FEATURES\n",
    "#\n",
    "#\n",
    "#"
   ]
  },
  {
   "cell_type": "code",
   "execution_count": 9,
   "id": "50ba1147-2673-49c3-87c1-abd4f4dae4d2",
   "metadata": {},
   "outputs": [
    {
     "name": "stdout",
     "output_type": "stream",
     "text": [
      "99139\n",
      "98926\n"
     ]
    },
    {
     "data": {
      "text/plain": [
       "array([[1.000000e+00, 9.000000e+00, 4.000000e+00, ..., 9.331560e+05,\n",
       "        1.951320e+06, 4.080400e+06],\n",
       "       [1.000000e+00, 4.500000e+01, 4.000000e+00, ..., 2.016400e+04,\n",
       "        2.849940e+05, 4.028049e+06],\n",
       "       [1.000000e+00, 9.000000e+00, 3.000000e+00, ..., 4.161600e+04,\n",
       "        4.098360e+05, 4.036081e+06],\n",
       "       ...,\n",
       "       [1.000000e+00, 0.000000e+00, 5.000000e+00, ..., 9.761440e+05,\n",
       "        1.984892e+06, 4.036081e+06],\n",
       "       [1.000000e+00, 5.000000e+00, 3.000000e+00, ..., 2.981160e+05,\n",
       "        1.100190e+06, 4.060225e+06],\n",
       "       [1.000000e+00, 0.000000e+00, 3.000000e+00, ..., 1.065024e+06,\n",
       "        2.074320e+06, 4.040100e+06]])"
      ]
     },
     "execution_count": 9,
     "metadata": {},
     "output_type": "execute_result"
    }
   ],
   "source": [
    "from sklearn.preprocessing import PolynomialFeatures\n",
    "\n",
    "df_subset = df[['number of reviews', 'review rate number', 'price', 'Construction year']]\n",
    "print(len(df_subset))\n",
    "for index, row in df_subset.iterrows(): \n",
    "    if (str(row['review rate number']) == \"nan\"):\n",
    "        df_subset = df_subset.drop(index)\n",
    "print(len(df_subset))\n",
    "\n",
    "poly = PolynomialFeatures(degree = 2, interaction_only = False, include_bias = True)\n",
    "poly.fit_transform(df_subset)"
   ]
  },
  {
   "cell_type": "code",
   "execution_count": 10,
   "id": "32f939c9-33cb-4419-bc16-97dfa8f2547b",
   "metadata": {},
   "outputs": [],
   "source": [
    "#\n",
    "#\n",
    "#\n",
    "# BINNING\n",
    "#\n",
    "#\n",
    "#"
   ]
  },
  {
   "cell_type": "code",
   "execution_count": 11,
   "id": "2a5c1e96-146b-4fb9-80e4-142865cbc3bc",
   "metadata": {},
   "outputs": [
    {
     "name": "stdout",
     "output_type": "stream",
     "text": [
      "(-0.003671474374215252, 0.24818875431148407)\n"
     ]
    }
   ],
   "source": [
    "# divide into tertile\n",
    "tertile = df_subset['price'].quantile([.33, .66])\n",
    "tertiles = [432, 808]\n",
    "\n",
    "def get_tertile(price):\n",
    "    if (price < tertiles[0]):\n",
    "        return 1\n",
    "    if (price < tertiles[1]):\n",
    "        return 2\n",
    "    else:\n",
    "        return 3\n",
    "\n",
    "tertiles_col = []\n",
    "for index, row in df_subset[['price']].iterrows(): \n",
    "    tertiles_col.append(get_tertile(row['price']))\n",
    "    \n",
    "df_subset['price_tertile'] = tertiles_col\n",
    "\n",
    "construction_year_scaler = min_max_scaler.fit(df_subset['Construction year'].values.reshape(-1, 1))\n",
    "construction_year_scaled = construction_year_scaler.transform(df_subset['Construction year'].values.reshape(-1, 1))\n",
    "df_subset[\"construction year scaled\"] = construction_year_scaled\n",
    "\n",
    "print(sp.stats.mstats.pearsonr(df_subset['review rate number'], df_subset['price_tertile']))"
   ]
  },
  {
   "cell_type": "code",
   "execution_count": 12,
   "id": "259b64b0-557d-4720-93b8-ef04b29a70a9",
   "metadata": {},
   "outputs": [],
   "source": [
    "quintile = df_subset['number of reviews'].quantile([.2, .4, .6, .8])\n",
    "quintiles = [1, 4, 13, 41]\n",
    "\n",
    "def get_quintile(price):\n",
    "    if (price <= quintiles[0]):\n",
    "        return 1\n",
    "    if (price <= quintiles[1]):\n",
    "        return 2\n",
    "    if (price <= quintiles[2]):\n",
    "        return 3\n",
    "    if (price <= quintiles[3]):\n",
    "        return 4\n",
    "    else:\n",
    "        return 5\n",
    "    \n",
    "quintiles_col = []\n",
    "for index, row in df_subset[['number of reviews']].iterrows(): \n",
    "    quintiles_col.append(get_quintile(row['number of reviews']))\n",
    "    \n",
    "df_subset['reviews_quintile'] = quintiles_col"
   ]
  },
  {
   "cell_type": "code",
   "execution_count": 13,
   "id": "0d44471f-69ba-48e8-baf0-583b24ccdc54",
   "metadata": {},
   "outputs": [
    {
     "name": "stdout",
     "output_type": "stream",
     "text": [
      "       number of reviews  review rate number   price  Construction year  \\\n",
      "0                      9                 4.0   966.0               2020   \n",
      "1                     45                 4.0   142.0               2007   \n",
      "2                      9                 3.0   204.0               2009   \n",
      "3                     74                 3.0   577.0               2013   \n",
      "4                     49                 5.0  1060.0               2009   \n",
      "...                  ...                 ...     ...                ...   \n",
      "99134                  0                 3.0   844.0               2003   \n",
      "99135                  1                 2.0   837.0               2016   \n",
      "99136                  0                 5.0   988.0               2009   \n",
      "99137                  5                 3.0   546.0               2015   \n",
      "99138                  0                 3.0  1032.0               2010   \n",
      "\n",
      "       price_tertile  construction year scaled  reviews_quintile  \n",
      "0                  3                  0.894737                 3  \n",
      "1                  1                  0.210526                 5  \n",
      "2                  1                  0.315789                 3  \n",
      "3                  2                  0.526316                 5  \n",
      "4                  3                  0.315789                 5  \n",
      "...              ...                       ...               ...  \n",
      "99134              3                  0.000000                 1  \n",
      "99135              3                  0.684211                 1  \n",
      "99136              3                  0.315789                 1  \n",
      "99137              2                  0.631579                 3  \n",
      "99138              3                  0.368421                 1  \n",
      "\n",
      "[98926 rows x 7 columns]\n"
     ]
    },
    {
     "name": "stderr",
     "output_type": "stream",
     "text": [
      "/var/folders/6y/6jxj1mps5qbgywfns4x1p2zr0000gn/T/ipykernel_7862/28495963.py:7: UserWarning: linestyle is redundantly defined by the 'linestyle' keyword argument and the fmt string \"\" (-> linestyle='-'). The keyword argument will take precedence.\n",
      "  plt.plot(df_sample[\"reviews_quintile\"].values, df_sample['price_tertile'].values, \"\", data=df, linestyle='', marker='o', markersize=1)\n"
     ]
    },
    {
     "data": {
      "image/png": "[encoded data removed]",
      "text/plain": [
       "<Figure size 432x288 with 1 Axes>"
      ]
     },
     "metadata": {
      "needs_background": "light"
     },
     "output_type": "display_data"
    }
   ],
   "source": [
    "import matplotlib.pyplot as plt\n",
    "import seaborn as sns\n",
    "\n",
    "df_sample = df_subset.sample(100)\n",
    "#plt.scatter(df_subset[\"construction year scaled\"].values, df_subset['price'].values, markersize=0.7)\n",
    "#sns.kdeplot(data = df, x=\"x\", y=\"y\", cmap=\"Reds\", shade=True)\n",
    "plt.plot(df_sample[\"reviews_quintile\"].values, df_sample['price_tertile'].values, \"\", data=df, linestyle='', marker='o', markersize=1)\n",
    "\n",
    "print(df_subset)"
   ]
  },
  {
   "cell_type": "code",
   "execution_count": 14,
   "id": "baafa377-1027-4314-85d4-3756c138ad2f",
   "metadata": {},
   "outputs": [],
   "source": [
    "#\n",
    "#\n",
    "#\n",
    "# DECISION TREE\n",
    "#\n",
    "#\n",
    "#"
   ]
  },
  {
   "cell_type": "code",
   "execution_count": 15,
   "id": "8152e383-ad1d-4049-a05c-0e8d44a095ad",
   "metadata": {},
   "outputs": [
    {
     "name": "stdout",
     "output_type": "stream",
     "text": [
      "Accuracy:  0.35226928131001717\n"
     ]
    }
   ],
   "source": [
    "from sklearn import tree\n",
    "from sklearn.model_selection import train_test_split\n",
    "\n",
    "decision_tree_x = df_subset[['reviews_quintile', 'review rate number', 'construction year scaled']].values\n",
    "decision_tree_y = df_subset['price_tertile'].values\n",
    "\n",
    "X_train, X_test, y_train, y_test = train_test_split(decision_tree_x, decision_tree_y, test_size = 0.2, random_state = 0)\n",
    "\n",
    "clf = tree.DecisionTreeClassifier()\n",
    "clf = clf.fit(X_train, y_train)\n",
    "\n",
    "print(\"Accuracy: \", clf.score(X_test, y_test))"
   ]
  }
 ],
 "metadata": {
  "kernelspec": {
   "display_name": "Python 3 (ipykernel)",
   "language": "python",
   "name": "python3"
  },
  "language_info": {
   "codemirror_mode": {
    "name": "ipython",
    "version": 3
   },
   "file_extension": ".py",
   "mimetype": "text/x-python",
   "name": "python",
   "nbconvert_exporter": "python",
   "pygments_lexer": "ipython3",
   "version": "3.9.12"
  }
 },
 "nbformat": 4,
 "nbformat_minor": 5
}
