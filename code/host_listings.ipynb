{
 "cells": [
  {
   "cell_type": "code",
   "execution_count": 1,
   "id": "1f0c724f-4d30-4a05-9541-25e15ddce043",
   "metadata": {},
   "outputs": [
    {
     "name": "stderr",
     "output_type": "stream",
     "text": [
      "C:\\Users\\jeffr\\AppData\\Local\\Temp\\ipykernel_36120\\1631652594.py:10: DtypeWarning: Columns (25) have mixed types. Specify dtype option on import or set low_memory=False.\n",
      "  df = pd.read_csv('Airbnb-CLEANED.csv') #, dtype={'id': 'int', 'NAME': 'str', }\n"
     ]
    }
   ],
   "source": [
    "import pandas as pd\n",
    "from scipy import stats\n",
    "import matplotlib.pyplot as plt\n",
    "import numpy as np\n",
    "\n",
    "# Note: `%pip install apyori` if not already installed.\n",
    "from apyori import apriori\n",
    "\n",
    "# Team data set.\n",
    "df = pd.read_csv('Airbnb-CLEANED.csv') #, dtype={'id': 'int', 'NAME': 'str', }\n",
    "\n",
    "# Clean columns.\n",
    "df.columns = [c.replace(' ', '_') for c in df.columns]"
   ]
  },
  {
   "cell_type": "code",
   "execution_count": 2,
   "id": "a12fd11f",
   "metadata": {},
   "outputs": [
    {
     "data": {
      "text/plain": [
       "Index(['id', 'NAME', 'host_id', 'host_identity_verified', 'host_name',\n",
       "       'neighbourhood_group', 'neighbourhood', 'lat', 'long', 'country',\n",
       "       'country_code', 'instant_bookable', 'cancellation_policy', 'room_type',\n",
       "       'Construction_year', 'price', 'service_fee', 'minimum_nights',\n",
       "       'number_of_reviews', 'last_review', 'reviews_per_month',\n",
       "       'review_rate_number', 'calculated_host_listings_count',\n",
       "       'availability_365', 'house_rules', 'license'],\n",
       "      dtype='object')"
      ]
     },
     "execution_count": 2,
     "metadata": {},
     "output_type": "execute_result"
    }
   ],
   "source": [
    "df.columns #check columns list if they look right"
   ]
  },
  {
   "cell_type": "code",
   "execution_count": 3,
   "id": "c1766c46",
   "metadata": {},
   "outputs": [
    {
     "name": "stdout",
     "output_type": "stream",
     "text": [
      "0        6\n",
      "1        2\n",
      "2        1\n",
      "3        1\n",
      "4        1\n",
      "        ..\n",
      "99134    1\n",
      "99135    2\n",
      "99136    1\n",
      "99137    1\n",
      "99138    1\n",
      "Name: calculated_host_listings_count, Length: 99139, dtype: int64\n"
     ]
    }
   ],
   "source": [
    "print(df[\"calculated_host_listings_count\"]) # check if output column looks right"
   ]
  },
  {
   "cell_type": "code",
   "execution_count": 4,
   "id": "4ddb1812-e339-42bb-82b1-0c967fceb951",
   "metadata": {},
   "outputs": [
    {
     "data": {
      "text/plain": [
       "{'whiskers': [<matplotlib.lines.Line2D at 0x1ee0d6c4940>,\n",
       "  <matplotlib.lines.Line2D at 0x1ee0d6c4c10>,\n",
       "  <matplotlib.lines.Line2D at 0x1ee0d6e1d60>,\n",
       "  <matplotlib.lines.Line2D at 0x1ee0d6ef070>,\n",
       "  <matplotlib.lines.Line2D at 0x1ee0d6fd190>,\n",
       "  <matplotlib.lines.Line2D at 0x1ee0d6fd460>],\n",
       " 'caps': [<matplotlib.lines.Line2D at 0x1ee0d6c4fa0>,\n",
       "  <matplotlib.lines.Line2D at 0x1ee0d6e11f0>,\n",
       "  <matplotlib.lines.Line2D at 0x1ee0d6ef340>,\n",
       "  <matplotlib.lines.Line2D at 0x1ee0d6ef610>,\n",
       "  <matplotlib.lines.Line2D at 0x1ee0d6fd730>,\n",
       "  <matplotlib.lines.Line2D at 0x1ee0d6fda00>],\n",
       " 'boxes': [<matplotlib.lines.Line2D at 0x1ee0d6c4790>,\n",
       "  <matplotlib.lines.Line2D at 0x1ee0d6e1a90>,\n",
       "  <matplotlib.lines.Line2D at 0x1ee0d6efe80>],\n",
       " 'medians': [<matplotlib.lines.Line2D at 0x1ee0d6e14c0>,\n",
       "  <matplotlib.lines.Line2D at 0x1ee0d6ef8e0>,\n",
       "  <matplotlib.lines.Line2D at 0x1ee0d6fdcd0>],\n",
       " 'fliers': [<matplotlib.lines.Line2D at 0x1ee0d6e1790>,\n",
       "  <matplotlib.lines.Line2D at 0x1ee0d6efbb0>,\n",
       "  <matplotlib.lines.Line2D at 0x1ee0d6fdfa0>],\n",
       " 'means': []}"
      ]
     },
     "execution_count": 4,
     "metadata": {},
     "output_type": "execute_result"
    },
    {
     "data": {
      "image/png": "[encoded data removed]",
      "text/plain": [
       "<Figure size 432x288 with 1 Axes>"
      ]
     },
     "metadata": {
      "needs_background": "light"
     },
     "output_type": "display_data"
    }
   ],
   "source": [
    "low = []\n",
    "middle = []\n",
    "high = []\n",
    "for (index, row) in df.iterrows():\n",
    "    if (3 >= row[\"calculated_host_listings_count\"]): #for each category add them into the 3 lists\n",
    "        low.append(row[\"price\"])\n",
    "    elif (6 >= row[\"calculated_host_listings_count\"]):\n",
    "        middle.append(row[\"price\"])\n",
    "    elif (6 < row[\"calculated_host_listings_count\"]):\n",
    "        high.append(row[\"price\"])\n",
    "\n",
    "# Graph boxplots.\n",
    "plt.boxplot([low, middle, high]) #graph simple box plot\n"
   ]
  },
  {
   "cell_type": "code",
   "execution_count": 6,
   "id": "6f8be94a-98b4-488b-a813-2067d6c1df0e",
   "metadata": {},
   "outputs": [
    {
     "data": {
      "image/png": "[encoded data removed]",
      "text/plain": [
       "<Figure size 432x288 with 3 Axes>"
      ]
     },
     "metadata": {
      "needs_background": "light"
     },
     "output_type": "display_data"
    },
    {
     "name": "stdout",
     "output_type": "stream",
     "text": [
      "Low: 338.6783321545682\n",
      "Middle: 325.5364498424101\n",
      "High: 332.078373128995\n",
      "Ratio of highest to lowest standard deviation: 1.0198747029605852\n"
     ]
    }
   ],
   "source": [
    "\n",
    "# Use numpy to randomly sample 1000 entries from the lists without replacement.\n",
    "low_sample = np.array(low)[np.random.choice(len(low), size=1000, replace=False)]\n",
    "middle_sample = np.array(middle)[np.random.choice(len(middle), size=1000, replace=False)]\n",
    "high_sample = np.array(high)[np.random.choice(len(high), size=1000, replace=False)]\n",
    "\n",
    "# Plot histograms to view distribution for first ANOVA condition of approximately normal distributions.\n",
    "fig, axes = plt.subplots(1, 3)\n",
    "axes[0].hist(low_sample, 30, alpha = 0.5, color = 'r')\n",
    "axes[0].set_title(\"1-3 listings\")\n",
    "axes[1].hist(middle_sample, 30, alpha = 0.5, color = 'g')\n",
    "axes[1].set_title(\"4-6 listings\")\n",
    "axes[2].hist(high_sample, 30, alpha = 0.5, color = 'b')\n",
    "axes[2].set_title(\"7+ listings\")\n",
    "plt.show()\n",
    "\n",
    "# Calculate ratio of standard deviations for second ANOVA condition of <2:1 ratio.\n",
    "print(\"Low: \" + str(np.std(low_sample)))\n",
    "print(\"Middle: \" + str(np.std(middle_sample)))\n",
    "print(\"High: \" + str(np.std(high_sample)))\n",
    "\n",
    "print(\"Ratio of highest to lowest standard deviation: \" + str(np.std(low_sample) / np.std(high_sample))) #specifically chose two, but can change if std varies for the 3rd case."
   ]
  },
  {
   "cell_type": "code",
   "execution_count": 7,
   "id": "92a6d96b",
   "metadata": {},
   "outputs": [
    {
     "name": "stdout",
     "output_type": "stream",
     "text": [
      "0.4265749664529397 0.6527805556471755\n"
     ]
    }
   ],
   "source": [
    "fvalue, pvalue = stats.f_oneway(low_sample, middle_sample, high_sample) #oneway test\n",
    "print(fvalue, pvalue)"
   ]
  },
  {
   "cell_type": "code",
   "execution_count": 27,
   "id": "59041448-9ae5-4e21-9af7-63824ac95835",
   "metadata": {},
   "outputs": [
    {
     "data": {
      "text/plain": [
       "{'fit_time': array([0.00099754, 0.00299191, 0.00199556]),\n",
       " 'score_time': array([0.00099802, 0.00099754, 0.00102973]),\n",
       " 'test_score': array([-4.61799135e-04, -1.82358877e-05, -2.45820908e-04])}"
      ]
     },
     "execution_count": 27,
     "metadata": {},
     "output_type": "execute_result"
    }
   ],
   "source": [
    "from sklearn.linear_model import LinearRegression\n",
    "from sklearn.model_selection import cross_validate\n",
    "from sklearn.model_selection import train_test_split\n",
    "from sklearn.linear_model import Ridge\n",
    "ridge = Ridge()\n",
    "#tested cross validation and linear regression. Tried different things, but ended up with bad scores for regression.\n",
    "y = df[\"calculated_host_listings_count\"]\n",
    "y = y.values.reshape(-1,1)\n",
    "X = df[\"price\"]\n",
    "X = X.values.reshape(-1,1)\n",
    "X_train, X_test, y_train, y_test = train_test_split(X, y, test_size=0.2)\n",
    "linear_model = LinearRegression()\n",
    "linear_model.fit(X_train, y_train)\n",
    "cv_results = cross_validate(ridge, X_train, y_train, cv=3)\n",
    "cv_results"
   ]
  },
  {
   "cell_type": "code",
   "execution_count": 8,
   "id": "4f39dc91-498f-4efb-896b-622ef70faeec",
   "metadata": {},
   "outputs": [
    {
     "ename": "NameError",
     "evalue": "name 'X' is not defined",
     "output_type": "error",
     "traceback": [
      "\u001b[1;31m---------------------------------------------------------------------------\u001b[0m",
      "\u001b[1;31mNameError\u001b[0m                                 Traceback (most recent call last)",
      "Input \u001b[1;32mIn [8]\u001b[0m, in \u001b[0;36m<cell line: 4>\u001b[1;34m()\u001b[0m\n\u001b[0;32m      2\u001b[0m \u001b[38;5;28;01mfrom\u001b[39;00m \u001b[38;5;21;01msklearn\u001b[39;00m\u001b[38;5;21;01m.\u001b[39;00m\u001b[38;5;21;01mmetrics\u001b[39;00m \u001b[38;5;28;01mimport\u001b[39;00m silhouette_score \u001b[38;5;66;03m#tried kmeans clustering, did not get a great silhouette score either.\u001b[39;00m\n\u001b[0;32m      3\u001b[0m model \u001b[38;5;241m=\u001b[39m KMeans(n_clusters\u001b[38;5;241m=\u001b[39m\u001b[38;5;241m3\u001b[39m)\n\u001b[1;32m----> 4\u001b[0m y \u001b[38;5;241m=\u001b[39m model\u001b[38;5;241m.\u001b[39mfit(\u001b[43mX\u001b[49m)\u001b[38;5;241m.\u001b[39mpredict(X)\n\u001b[0;32m      5\u001b[0m silhouette_score(X, y, metric\u001b[38;5;241m=\u001b[39m\u001b[38;5;124m'\u001b[39m\u001b[38;5;124meuclidean\u001b[39m\u001b[38;5;124m'\u001b[39m)\n",
      "\u001b[1;31mNameError\u001b[0m: name 'X' is not defined"
     ]
    }
   ],
   "source": [
    "from sklearn.cluster import KMeans\n",
    "from sklearn.metrics import silhouette_score #tried kmeans clustering, did not get a great silhouette score either.\n",
    "model = KMeans(n_clusters=3)\n",
    "y = model.fit(X).predict(X)\n",
    "silhouette_score(X, y, metric='euclidean')"
   ]
  },
  {
   "cell_type": "code",
   "execution_count": 51,
   "id": "8643d32d-6b9d-4019-8d67-36ef9e65a4af",
   "metadata": {},
   "outputs": [
    {
     "name": "stderr",
     "output_type": "stream",
     "text": [
      "C:\\Users\\jeffr\\anaconda3\\lib\\site-packages\\sklearn\\neighbors\\_classification.py:198: DataConversionWarning: A column-vector y was passed when a 1d array was expected. Please change the shape of y to (n_samples,), for example using ravel().\n",
      "  return self._fit(X, y)\n",
      "C:\\Users\\jeffr\\anaconda3\\lib\\site-packages\\sklearn\\neighbors\\_classification.py:198: DataConversionWarning: A column-vector y was passed when a 1d array was expected. Please change the shape of y to (n_samples,), for example using ravel().\n",
      "  return self._fit(X, y)\n",
      "C:\\Users\\jeffr\\anaconda3\\lib\\site-packages\\sklearn\\neighbors\\_classification.py:198: DataConversionWarning: A column-vector y was passed when a 1d array was expected. Please change the shape of y to (n_samples,), for example using ravel().\n",
      "  return self._fit(X, y)\n"
     ]
    },
    {
     "data": {
      "text/plain": [
       "{'fit_time': array([0.02795887, 0.02393746, 0.02500367]),\n",
       " 'score_time': array([0.55647707, 0.58539891, 0.57838464]),\n",
       " 'test_score': array([0.61126452, 0.61308015, 0.61141582])}"
      ]
     },
     "execution_count": 51,
     "metadata": {},
     "output_type": "execute_result"
    }
   ],
   "source": [
    "from sklearn.neighbors import KNeighborsClassifier #did knn and ended with 61% accuracy as well.\n",
    "knn=KNeighborsClassifier(n_neighbors = 11)\n",
    "cv_results = cross_validate(knn, X_train, y_train, cv=3)\n",
    "cv_results"
   ]
  },
  {
   "cell_type": "code",
   "execution_count": null,
   "id": "d9a88764-bc52-45e1-87f9-c04bc2ee0d88",
   "metadata": {},
   "outputs": [],
   "source": []
  },
  {
   "cell_type": "code",
   "execution_count": null,
   "id": "c6cffe74-88c8-4398-9882-cefd6b5e3c00",
   "metadata": {},
   "outputs": [],
   "source": []
  }
 ],
 "metadata": {
  "kernelspec": {
   "display_name": "Python 3 (ipykernel)",
   "language": "python",
   "name": "python3"
  },
  "language_info": {
   "codemirror_mode": {
    "name": "ipython",
    "version": 3
   },
   "file_extension": ".py",
   "mimetype": "text/x-python",
   "name": "python",
   "nbconvert_exporter": "python",
   "pygments_lexer": "ipython3",
   "version": "3.9.12"
  }
 },
 "nbformat": 4,
 "nbformat_minor": 5
}
