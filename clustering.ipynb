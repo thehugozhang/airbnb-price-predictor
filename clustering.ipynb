{
 "cells": [
  {
   "cell_type": "markdown",
   "metadata": {},
   "source": [
    "## import all needed packages here."
   ]
  },
  {
   "cell_type": "code",
   "execution_count": 3,
   "metadata": {},
   "outputs": [
    {
     "name": "stdout",
     "output_type": "stream",
     "text": [
      "Requirement already satisfied: apyori in c:\\users\\billw\\anaconda3\\lib\\site-packages (1.1.2)\n",
      "Requirement already satisfied: yellowbrick in c:\\users\\billw\\anaconda3\\lib\\site-packages (1.5)\n",
      "Requirement already satisfied: matplotlib!=3.0.0,>=2.0.2 in c:\\users\\billw\\anaconda3\\lib\\site-packages (from yellowbrick) (3.5.1)\n",
      "Requirement already satisfied: cycler>=0.10.0 in c:\\users\\billw\\anaconda3\\lib\\site-packages (from yellowbrick) (0.11.0)\n",
      "Requirement already satisfied: numpy>=1.16.0 in c:\\users\\billw\\anaconda3\\lib\\site-packages (from yellowbrick) (1.21.5)\n",
      "Requirement already satisfied: scipy>=1.0.0 in c:\\users\\billw\\anaconda3\\lib\\site-packages (from yellowbrick) (1.7.3)\n",
      "Requirement already satisfied: scikit-learn>=1.0.0 in c:\\users\\billw\\anaconda3\\lib\\site-packages (from yellowbrick) (1.0.2)\n",
      "Requirement already satisfied: kiwisolver>=1.0.1 in c:\\users\\billw\\anaconda3\\lib\\site-packages (from matplotlib!=3.0.0,>=2.0.2->yellowbrick) (1.3.2)\n",
      "Requirement already satisfied: python-dateutil>=2.7 in c:\\users\\billw\\anaconda3\\lib\\site-packages (from matplotlib!=3.0.0,>=2.0.2->yellowbrick) (2.8.2)\n",
      "Requirement already satisfied: fonttools>=4.22.0 in c:\\users\\billw\\anaconda3\\lib\\site-packages (from matplotlib!=3.0.0,>=2.0.2->yellowbrick) (4.25.0)\n",
      "Requirement already satisfied: pyparsing>=2.2.1 in c:\\users\\billw\\anaconda3\\lib\\site-packages (from matplotlib!=3.0.0,>=2.0.2->yellowbrick) (3.0.4)\n",
      "Requirement already satisfied: pillow>=6.2.0 in c:\\users\\billw\\anaconda3\\lib\\site-packages (from matplotlib!=3.0.0,>=2.0.2->yellowbrick) (9.0.1)\n",
      "Requirement already satisfied: packaging>=20.0 in c:\\users\\billw\\anaconda3\\lib\\site-packages (from matplotlib!=3.0.0,>=2.0.2->yellowbrick) (21.3)\n",
      "Requirement already satisfied: six>=1.5 in c:\\users\\billw\\anaconda3\\lib\\site-packages (from python-dateutil>=2.7->matplotlib!=3.0.0,>=2.0.2->yellowbrick) (1.16.0)\n",
      "Requirement already satisfied: threadpoolctl>=2.0.0 in c:\\users\\billw\\anaconda3\\lib\\site-packages (from scikit-learn>=1.0.0->yellowbrick) (2.2.0)\n",
      "Requirement already satisfied: joblib>=0.11 in c:\\users\\billw\\anaconda3\\lib\\site-packages (from scikit-learn>=1.0.0->yellowbrick) (1.1.0)\n"
     ]
    }
   ],
   "source": [
    "!pip install apyori\n",
    "!pip install yellowbrick\n",
    "import pandas as pd\n",
    "import scipy as sp\n",
    "from scipy import stats\n",
    "import apyori\n",
    "from apyori import apriori\n",
    "import numpy as np\n",
    "import matplotlib.pyplot as plt\n",
    "\n",
    "from sklearn.neighbors import KNeighborsClassifier\n",
    "from sklearn.model_selection import cross_validate\n",
    "from sklearn.model_selection import train_test_split\n",
    "from sklearn.linear_model import LogisticRegression\n",
    "from sklearn.linear_model import LinearRegression\n",
    "from sklearn.cluster import KMeans\n",
    "from sklearn.metrics import silhouette_score\n",
    "from yellowbrick.cluster import SilhouetteVisualizer"
   ]
  },
  {
   "cell_type": "markdown",
   "metadata": {},
   "source": [
    "## Load data to pandas DataFrames."
   ]
  },
  {
   "cell_type": "code",
   "execution_count": 31,
   "metadata": {},
   "outputs": [],
   "source": [
    "#read the airbnb\n",
    "df = pd.read_csv('Airbnb-CLEANED_new.csv', low_memory=False)"
   ]
  },
  {
   "cell_type": "code",
   "execution_count": 63,
   "metadata": {},
   "outputs": [],
   "source": [
    "\n",
    "X  = []\n",
    "y = []\n",
    "\n",
    "#Take each entry's price, number of reviews, and minimum nights and put it into X\n",
    "for i in range(len(df.price)):\n",
    "    X.append([df[\"price\"][i], df[\"number of reviews\"][i], df[\"minimum nights\"][i], i])\n",
    "#Use K-means clustering to fit into 4 different clusters\n",
    "km = KMeans(n_clusters=4)\n",
    "label = km.fit_predict(X)\n",
    "u_labels = np.unique(label)\n",
    "print(u_labels)\n",
    "X = np.array(X)\n",
    "la = [\"price\", \"number of review\", \"minimum nights\"]"
   ]
  },
  {
   "cell_type": "code",
   "execution_count": 64,
   "metadata": {},
   "outputs": [
    {
     "data": {
      "image/png": "[encoded data removed]",
      "text/plain": [
       "<Figure size 576x396 with 1 Axes>"
      ]
     },
     "metadata": {},
     "output_type": "display_data"
    }
   ],
   "source": [
    "#Print out a graph with price vs minimum nights where color=label\n",
    "for i in u_labels:\n",
    "    plt.scatter(X[label == i , 3] , X[label == i , 0] , label = i)\n",
    "plt.ylabel(\"minimum nights\")\n",
    "plt.xlabel(\"price\")\n",
    "plt.legend()\n",
    "plt.show()"
   ]
  },
  {
   "cell_type": "code",
   "execution_count": 28,
   "metadata": {},
   "outputs": [
    {
     "name": "stdout",
     "output_type": "stream",
     "text": [
      "price: [623.32876319]\n",
      "price: [626.0136719]\n",
      "price: [611.80862069]\n",
      "price: [625.51907962]\n",
      "min nights: 29.550786016797073\n",
      "min nights: 2.283128320742528\n",
      "min nights: 74.64827586206897\n",
      "min nights: 8.897824353571021\n",
      "number of reviews: 16.34290431411959\n",
      "number of reviews: 31.327453229442707\n",
      "number of reviews: 11.21896551724138\n",
      "number of reviews: 11.813760109351863\n",
      "review rate number: 3.344914220084703\n",
      "review rate number: 3.2661472135426965\n",
      "review rate number: 3.3586206896551722\n",
      "review rate number: 3.249117211527509\n"
     ]
    }
   ],
   "source": [
    "#Print out the means of each entry in each cluster\n",
    "filtered_label0 = Y[label == 0]\n",
    "filtered_label1 = Y[label == 1]\n",
    "filtered_label2 = Y[label == 2]\n",
    "filtered_label3 = Y[label == 3]\n",
    "print(\"price:\",sum(filtered_label0)/len(filtered_label0))\n",
    "print(\"price:\",sum(filtered_label1)/len(filtered_label1))\n",
    "print(\"price:\",sum(filtered_label2)/len(filtered_label2))\n",
    "print(\"price:\",sum(filtered_label3)/len(filtered_label3))\n",
    "a = []\n",
    "b=[]\n",
    "c=[]\n",
    "d=[]\n",
    "for i in range(len(label)):\n",
    "    if label[i] == 0:\n",
    "        a.append(df[\"minimum nights\"][i])\n",
    "for i in range(len(label)):\n",
    "    if label[i] == 1:\n",
    "        b.append(df[\"minimum nights\"][i])\n",
    "for i in range(len(label)):\n",
    "    if label[i] == 2:\n",
    "        c.append(df[\"minimum nights\"][i])\n",
    "for i in range(len(label)):\n",
    "    if label[i] == 3:\n",
    "        d.append(df[\"minimum nights\"][i])\n",
    "\n",
    "print(\"min nights:\",sum(a)/len(a))\n",
    "print(\"min nights:\",sum(b)/len(b))\n",
    "print(\"min nights:\",sum(c)/len(c))\n",
    "print(\"min nights:\",sum(d)/len(d))\n",
    "\n",
    "a = []\n",
    "b=[]\n",
    "c=[]\n",
    "d=[]\n",
    "for i in range(len(label)):\n",
    "    if label[i] == 0:\n",
    "        a.append(df[\"number of reviews\"][i])\n",
    "for i in range(len(label)):\n",
    "    if label[i] == 1:\n",
    "        b.append(df[\"number of reviews\"][i])\n",
    "for i in range(len(label)):\n",
    "    if label[i] == 2:\n",
    "        c.append(df[\"number of reviews\"][i])\n",
    "for i in range(len(label)):\n",
    "    if label[i] == 3:\n",
    "        d.append(df[\"number of reviews\"][i])\n",
    "\n",
    "print(\"number of reviews:\",sum(a)/len(a))\n",
    "print(\"number of reviews:\",sum(b)/len(b))\n",
    "print(\"number of reviews:\",sum(c)/len(c))\n",
    "print(\"number of reviews:\",sum(d)/len(d))\n",
    "\n",
    "a = []\n",
    "b=[]\n",
    "c=[]\n",
    "d=[]\n",
    "for i in range(len(label)):\n",
    "    if label[i] == 0:\n",
    "        a.append(df[\"review rate number\"][i])\n",
    "for i in range(len(label)):\n",
    "    if label[i] == 1:\n",
    "        b.append(df[\"review rate number\"][i])\n",
    "for i in range(len(label)):\n",
    "    if label[i] == 2:\n",
    "        c.append(df[\"review rate number\"][i])\n",
    "for i in range(len(label)):\n",
    "    if label[i] == 3:\n",
    "        d.append(df[\"review rate number\"][i])\n",
    "\n",
    "print(\"review rate number:\",sum(a)/len(a))\n",
    "print(\"review rate number:\",sum(b)/len(b))\n",
    "print(\"review rate number:\",sum(c)/len(c))\n",
    "print(\"review rate number:\",sum(d)/len(d))\n"
   ]
  }
 ],
 "metadata": {
  "kernelspec": {
   "display_name": "Python 3 (ipykernel)",
   "language": "python",
   "name": "python3"
  },
  "language_info": {
   "codemirror_mode": {
    "name": "ipython",
    "version": 3
   },
   "file_extension": ".py",
   "mimetype": "text/x-python",
   "name": "python",
   "nbconvert_exporter": "python",
   "pygments_lexer": "ipython3",
   "version": "3.9.12"
  }
 },
 "nbformat": 4,
 "nbformat_minor": 4
}
